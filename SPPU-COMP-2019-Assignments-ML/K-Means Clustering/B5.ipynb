{
 "cells": [
  {
   "cell_type": "code",
   "execution_count": 10,
   "id": "9e7e4e05",
   "metadata": {},
   "outputs": [],
   "source": [
    "import numpy as np\n",
    "import pandas as pd\n",
    "import matplotlib.pyplot as plt\n",
    "from sklearn.preprocessing import StandardScaler\n",
    "from sklearn.cluster import KMeans"
   ]
  },
  {
   "cell_type": "code",
   "execution_count": 11,
   "id": "349e77aa",
   "metadata": {},
   "outputs": [],
   "source": [
    "df = pd.read_csv(\"sales_data_sample.csv\", encoding=\"unicode_escape\")"
   ]
  },
  {
   "cell_type": "code",
   "execution_count": 12,
   "id": "8188a6fb",
   "metadata": {},
   "outputs": [
    {
     "data": {
      "text/html": [
       "<div>\n",
       "<style scoped>\n",
       "    .dataframe tbody tr th:only-of-type {\n",
       "        vertical-align: middle;\n",
       "    }\n",
       "\n",
       "    .dataframe tbody tr th {\n",
       "        vertical-align: top;\n",
       "    }\n",
       "\n",
       "    .dataframe thead th {\n",
       "        text-align: right;\n",
       "    }\n",
       "</style>\n",
       "<table border=\"1\" class=\"dataframe\">\n",
       "  <thead>\n",
       "    <tr style=\"text-align: right;\">\n",
       "      <th></th>\n",
       "      <th>ORDERNUMBER</th>\n",
       "      <th>QUANTITYORDERED</th>\n",
       "      <th>PRICEEACH</th>\n",
       "      <th>ORDERLINENUMBER</th>\n",
       "      <th>SALES</th>\n",
       "      <th>ORDERDATE</th>\n",
       "      <th>STATUS</th>\n",
       "      <th>QTR_ID</th>\n",
       "      <th>MONTH_ID</th>\n",
       "      <th>YEAR_ID</th>\n",
       "      <th>...</th>\n",
       "      <th>ADDRESSLINE1</th>\n",
       "      <th>ADDRESSLINE2</th>\n",
       "      <th>CITY</th>\n",
       "      <th>STATE</th>\n",
       "      <th>POSTALCODE</th>\n",
       "      <th>COUNTRY</th>\n",
       "      <th>TERRITORY</th>\n",
       "      <th>CONTACTLASTNAME</th>\n",
       "      <th>CONTACTFIRSTNAME</th>\n",
       "      <th>DEALSIZE</th>\n",
       "    </tr>\n",
       "  </thead>\n",
       "  <tbody>\n",
       "    <tr>\n",
       "      <th>0</th>\n",
       "      <td>10107</td>\n",
       "      <td>30</td>\n",
       "      <td>95.70</td>\n",
       "      <td>2</td>\n",
       "      <td>2871.00</td>\n",
       "      <td>2/24/2003 0:00</td>\n",
       "      <td>Shipped</td>\n",
       "      <td>1</td>\n",
       "      <td>2</td>\n",
       "      <td>2003</td>\n",
       "      <td>...</td>\n",
       "      <td>897 Long Airport Avenue</td>\n",
       "      <td>NaN</td>\n",
       "      <td>NYC</td>\n",
       "      <td>NY</td>\n",
       "      <td>10022</td>\n",
       "      <td>USA</td>\n",
       "      <td>NaN</td>\n",
       "      <td>Yu</td>\n",
       "      <td>Kwai</td>\n",
       "      <td>Small</td>\n",
       "    </tr>\n",
       "    <tr>\n",
       "      <th>1</th>\n",
       "      <td>10121</td>\n",
       "      <td>34</td>\n",
       "      <td>81.35</td>\n",
       "      <td>5</td>\n",
       "      <td>2765.90</td>\n",
       "      <td>5/7/2003 0:00</td>\n",
       "      <td>Shipped</td>\n",
       "      <td>2</td>\n",
       "      <td>5</td>\n",
       "      <td>2003</td>\n",
       "      <td>...</td>\n",
       "      <td>59 rue de l'Abbaye</td>\n",
       "      <td>NaN</td>\n",
       "      <td>Reims</td>\n",
       "      <td>NaN</td>\n",
       "      <td>51100</td>\n",
       "      <td>France</td>\n",
       "      <td>EMEA</td>\n",
       "      <td>Henriot</td>\n",
       "      <td>Paul</td>\n",
       "      <td>Small</td>\n",
       "    </tr>\n",
       "    <tr>\n",
       "      <th>2</th>\n",
       "      <td>10134</td>\n",
       "      <td>41</td>\n",
       "      <td>94.74</td>\n",
       "      <td>2</td>\n",
       "      <td>3884.34</td>\n",
       "      <td>7/1/2003 0:00</td>\n",
       "      <td>Shipped</td>\n",
       "      <td>3</td>\n",
       "      <td>7</td>\n",
       "      <td>2003</td>\n",
       "      <td>...</td>\n",
       "      <td>27 rue du Colonel Pierre Avia</td>\n",
       "      <td>NaN</td>\n",
       "      <td>Paris</td>\n",
       "      <td>NaN</td>\n",
       "      <td>75508</td>\n",
       "      <td>France</td>\n",
       "      <td>EMEA</td>\n",
       "      <td>Da Cunha</td>\n",
       "      <td>Daniel</td>\n",
       "      <td>Medium</td>\n",
       "    </tr>\n",
       "    <tr>\n",
       "      <th>3</th>\n",
       "      <td>10145</td>\n",
       "      <td>45</td>\n",
       "      <td>83.26</td>\n",
       "      <td>6</td>\n",
       "      <td>3746.70</td>\n",
       "      <td>8/25/2003 0:00</td>\n",
       "      <td>Shipped</td>\n",
       "      <td>3</td>\n",
       "      <td>8</td>\n",
       "      <td>2003</td>\n",
       "      <td>...</td>\n",
       "      <td>78934 Hillside Dr.</td>\n",
       "      <td>NaN</td>\n",
       "      <td>Pasadena</td>\n",
       "      <td>CA</td>\n",
       "      <td>90003</td>\n",
       "      <td>USA</td>\n",
       "      <td>NaN</td>\n",
       "      <td>Young</td>\n",
       "      <td>Julie</td>\n",
       "      <td>Medium</td>\n",
       "    </tr>\n",
       "    <tr>\n",
       "      <th>4</th>\n",
       "      <td>10159</td>\n",
       "      <td>49</td>\n",
       "      <td>100.00</td>\n",
       "      <td>14</td>\n",
       "      <td>5205.27</td>\n",
       "      <td>10/10/2003 0:00</td>\n",
       "      <td>Shipped</td>\n",
       "      <td>4</td>\n",
       "      <td>10</td>\n",
       "      <td>2003</td>\n",
       "      <td>...</td>\n",
       "      <td>7734 Strong St.</td>\n",
       "      <td>NaN</td>\n",
       "      <td>San Francisco</td>\n",
       "      <td>CA</td>\n",
       "      <td>NaN</td>\n",
       "      <td>USA</td>\n",
       "      <td>NaN</td>\n",
       "      <td>Brown</td>\n",
       "      <td>Julie</td>\n",
       "      <td>Medium</td>\n",
       "    </tr>\n",
       "  </tbody>\n",
       "</table>\n",
       "<p>5 rows × 25 columns</p>\n",
       "</div>"
      ],
      "text/plain": [
       "   ORDERNUMBER  QUANTITYORDERED  PRICEEACH  ORDERLINENUMBER    SALES  \\\n",
       "0        10107               30      95.70                2  2871.00   \n",
       "1        10121               34      81.35                5  2765.90   \n",
       "2        10134               41      94.74                2  3884.34   \n",
       "3        10145               45      83.26                6  3746.70   \n",
       "4        10159               49     100.00               14  5205.27   \n",
       "\n",
       "         ORDERDATE   STATUS  QTR_ID  MONTH_ID  YEAR_ID  ...  \\\n",
       "0   2/24/2003 0:00  Shipped       1         2     2003  ...   \n",
       "1    5/7/2003 0:00  Shipped       2         5     2003  ...   \n",
       "2    7/1/2003 0:00  Shipped       3         7     2003  ...   \n",
       "3   8/25/2003 0:00  Shipped       3         8     2003  ...   \n",
       "4  10/10/2003 0:00  Shipped       4        10     2003  ...   \n",
       "\n",
       "                    ADDRESSLINE1  ADDRESSLINE2           CITY STATE  \\\n",
       "0        897 Long Airport Avenue           NaN            NYC    NY   \n",
       "1             59 rue de l'Abbaye           NaN          Reims   NaN   \n",
       "2  27 rue du Colonel Pierre Avia           NaN          Paris   NaN   \n",
       "3             78934 Hillside Dr.           NaN       Pasadena    CA   \n",
       "4                7734 Strong St.           NaN  San Francisco    CA   \n",
       "\n",
       "  POSTALCODE COUNTRY TERRITORY CONTACTLASTNAME CONTACTFIRSTNAME DEALSIZE  \n",
       "0      10022     USA       NaN              Yu             Kwai    Small  \n",
       "1      51100  France      EMEA         Henriot             Paul    Small  \n",
       "2      75508  France      EMEA        Da Cunha           Daniel   Medium  \n",
       "3      90003     USA       NaN           Young            Julie   Medium  \n",
       "4        NaN     USA       NaN           Brown            Julie   Medium  \n",
       "\n",
       "[5 rows x 25 columns]"
      ]
     },
     "execution_count": 12,
     "metadata": {},
     "output_type": "execute_result"
    }
   ],
   "source": [
    "df.head()"
   ]
  },
  {
   "cell_type": "code",
   "execution_count": 13,
   "id": "4d946d07",
   "metadata": {},
   "outputs": [
    {
     "data": {
      "text/plain": [
       "ORDERNUMBER            0\n",
       "QUANTITYORDERED        0\n",
       "PRICEEACH              0\n",
       "ORDERLINENUMBER        0\n",
       "SALES                  0\n",
       "ORDERDATE              0\n",
       "STATUS                 0\n",
       "QTR_ID                 0\n",
       "MONTH_ID               0\n",
       "YEAR_ID                0\n",
       "PRODUCTLINE            0\n",
       "MSRP                   0\n",
       "PRODUCTCODE            0\n",
       "CUSTOMERNAME           0\n",
       "PHONE                  0\n",
       "ADDRESSLINE1           0\n",
       "ADDRESSLINE2        2521\n",
       "CITY                   0\n",
       "STATE               1486\n",
       "POSTALCODE            76\n",
       "COUNTRY                0\n",
       "TERRITORY           1074\n",
       "CONTACTLASTNAME        0\n",
       "CONTACTFIRSTNAME       0\n",
       "DEALSIZE               0\n",
       "dtype: int64"
      ]
     },
     "execution_count": 13,
     "metadata": {},
     "output_type": "execute_result"
    }
   ],
   "source": [
    "df.isnull().sum()"
   ]
  },
  {
   "cell_type": "code",
   "execution_count": 14,
   "id": "9e73ed1a",
   "metadata": {},
   "outputs": [],
   "source": [
    "df.drop(['ADDRESSLINE2', 'STATE', 'POSTALCODE', 'TERRITORY'], axis=1, inplace=True)"
   ]
  },
  {
   "cell_type": "code",
   "execution_count": 15,
   "id": "0ed7a08a",
   "metadata": {},
   "outputs": [
    {
     "data": {
      "text/plain": [
       "ORDERNUMBER         0\n",
       "QUANTITYORDERED     0\n",
       "PRICEEACH           0\n",
       "ORDERLINENUMBER     0\n",
       "SALES               0\n",
       "ORDERDATE           0\n",
       "STATUS              0\n",
       "QTR_ID              0\n",
       "MONTH_ID            0\n",
       "YEAR_ID             0\n",
       "PRODUCTLINE         0\n",
       "MSRP                0\n",
       "PRODUCTCODE         0\n",
       "CUSTOMERNAME        0\n",
       "PHONE               0\n",
       "ADDRESSLINE1        0\n",
       "CITY                0\n",
       "COUNTRY             0\n",
       "CONTACTLASTNAME     0\n",
       "CONTACTFIRSTNAME    0\n",
       "DEALSIZE            0\n",
       "dtype: int64"
      ]
     },
     "execution_count": 15,
     "metadata": {},
     "output_type": "execute_result"
    }
   ],
   "source": [
    "df.isnull().sum()"
   ]
  },
  {
   "cell_type": "code",
   "execution_count": 16,
   "id": "596ae048",
   "metadata": {},
   "outputs": [],
   "source": [
    "X = df[['SALES', 'QUANTITYORDERED', 'PRICEEACH']]\n",
    "scaler = StandardScaler()\n",
    "X_scaled = scaler.fit_transform(X)"
   ]
  },
  {
   "cell_type": "code",
   "execution_count": 19,
   "id": "c3624952",
   "metadata": {},
   "outputs": [
    {
     "name": "stderr",
     "output_type": "stream",
     "text": [
      "C:\\Users\\neils\\AppData\\Roaming\\Python\\Python312\\site-packages\\sklearn\\cluster\\_kmeans.py:1416: FutureWarning: The default value of `n_init` will change from 10 to 'auto' in 1.4. Set the value of `n_init` explicitly to suppress the warning\n",
      "  super()._check_params_vs_input(X, default_n_init=10)\n",
      "C:\\Users\\neils\\AppData\\Roaming\\Python\\Python312\\site-packages\\sklearn\\cluster\\_kmeans.py:1416: FutureWarning: The default value of `n_init` will change from 10 to 'auto' in 1.4. Set the value of `n_init` explicitly to suppress the warning\n",
      "  super()._check_params_vs_input(X, default_n_init=10)\n",
      "C:\\Users\\neils\\AppData\\Roaming\\Python\\Python312\\site-packages\\sklearn\\cluster\\_kmeans.py:1416: FutureWarning: The default value of `n_init` will change from 10 to 'auto' in 1.4. Set the value of `n_init` explicitly to suppress the warning\n",
      "  super()._check_params_vs_input(X, default_n_init=10)\n",
      "C:\\Users\\neils\\AppData\\Roaming\\Python\\Python312\\site-packages\\sklearn\\cluster\\_kmeans.py:1416: FutureWarning: The default value of `n_init` will change from 10 to 'auto' in 1.4. Set the value of `n_init` explicitly to suppress the warning\n",
      "  super()._check_params_vs_input(X, default_n_init=10)\n",
      "C:\\Users\\neils\\AppData\\Roaming\\Python\\Python312\\site-packages\\sklearn\\cluster\\_kmeans.py:1416: FutureWarning: The default value of `n_init` will change from 10 to 'auto' in 1.4. Set the value of `n_init` explicitly to suppress the warning\n",
      "  super()._check_params_vs_input(X, default_n_init=10)\n",
      "C:\\Users\\neils\\AppData\\Roaming\\Python\\Python312\\site-packages\\sklearn\\cluster\\_kmeans.py:1416: FutureWarning: The default value of `n_init` will change from 10 to 'auto' in 1.4. Set the value of `n_init` explicitly to suppress the warning\n",
      "  super()._check_params_vs_input(X, default_n_init=10)\n",
      "C:\\Users\\neils\\AppData\\Roaming\\Python\\Python312\\site-packages\\sklearn\\cluster\\_kmeans.py:1416: FutureWarning: The default value of `n_init` will change from 10 to 'auto' in 1.4. Set the value of `n_init` explicitly to suppress the warning\n",
      "  super()._check_params_vs_input(X, default_n_init=10)\n",
      "C:\\Users\\neils\\AppData\\Roaming\\Python\\Python312\\site-packages\\sklearn\\cluster\\_kmeans.py:1416: FutureWarning: The default value of `n_init` will change from 10 to 'auto' in 1.4. Set the value of `n_init` explicitly to suppress the warning\n",
      "  super()._check_params_vs_input(X, default_n_init=10)\n",
      "C:\\Users\\neils\\AppData\\Roaming\\Python\\Python312\\site-packages\\sklearn\\cluster\\_kmeans.py:1416: FutureWarning: The default value of `n_init` will change from 10 to 'auto' in 1.4. Set the value of `n_init` explicitly to suppress the warning\n",
      "  super()._check_params_vs_input(X, default_n_init=10)\n",
      "C:\\Users\\neils\\AppData\\Roaming\\Python\\Python312\\site-packages\\sklearn\\cluster\\_kmeans.py:1416: FutureWarning: The default value of `n_init` will change from 10 to 'auto' in 1.4. Set the value of `n_init` explicitly to suppress the warning\n",
      "  super()._check_params_vs_input(X, default_n_init=10)\n"
     ]
    },
    {
     "data": {
      "image/png": "[encoded data removed]",
      "text/plain": [
       "<Figure size 800x600 with 1 Axes>"
      ]
     },
     "metadata": {},
     "output_type": "display_data"
    }
   ],
   "source": [
    "inertia = []\n",
    "K = range(1,11)\n",
    "\n",
    "for k in K:\n",
    "    kmeans = KMeans(n_clusters=k, random_state=42)\n",
    "    kmeans.fit(X_scaled)\n",
    "    inertia.append(kmeans.inertia_)\n",
    "\n",
    "plt.figure(figsize=(8,6))\n",
    "plt.plot(K, inertia, 'bo-')\n",
    "plt.xlabel('Number of clusters (k)')\n",
    "plt.ylabel('Inertia')\n",
    "plt.title('Elbow Method for Optimal k')\n",
    "plt.show()"
   ]
  },
  {
   "cell_type": "code",
   "execution_count": 20,
   "id": "c7df23b4",
   "metadata": {},
   "outputs": [
    {
     "name": "stdout",
     "output_type": "stream",
     "text": [
      "        SALES  QUANTITYORDERED  PRICEEACH  Cluster\n",
      "0     2871.00               30      95.70        2\n",
      "1     2765.90               34      81.35        2\n",
      "2     3884.34               41      94.74        1\n",
      "3     3746.70               45      83.26        0\n",
      "4     5205.27               49     100.00        1\n",
      "...       ...              ...        ...      ...\n",
      "2818  2244.40               20     100.00        2\n",
      "2819  3978.51               29     100.00        2\n",
      "2820  5417.57               43     100.00        1\n",
      "2821  2116.16               34      62.24        3\n",
      "2822  3079.44               47      65.52        0\n",
      "\n",
      "[2823 rows x 4 columns]\n"
     ]
    },
    {
     "name": "stderr",
     "output_type": "stream",
     "text": [
      "C:\\Users\\neils\\AppData\\Roaming\\Python\\Python312\\site-packages\\sklearn\\cluster\\_kmeans.py:1416: FutureWarning: The default value of `n_init` will change from 10 to 'auto' in 1.4. Set the value of `n_init` explicitly to suppress the warning\n",
      "  super()._check_params_vs_input(X, default_n_init=10)\n"
     ]
    }
   ],
   "source": [
    "optimal_k = 4\n",
    "kmeans = KMeans(n_clusters=optimal_k, random_state=42)\n",
    "df['Cluster'] = kmeans.fit_predict(X_scaled)\n",
    "print(df[['SALES', 'QUANTITYORDERED', 'PRICEEACH', 'Cluster']])"
   ]
  }
 ],
 "metadata": {
  "kernelspec": {
   "display_name": "Python 3",
   "language": "python",
   "name": "python3"
  },
  "language_info": {
   "codemirror_mode": {
    "name": "ipython",
    "version": 3
   },
   "file_extension": ".py",
   "mimetype": "text/x-python",
   "name": "python",
   "nbconvert_exporter": "python",
   "pygments_lexer": "ipython3",
   "version": "3.12.1"
  },
  "toc": {
   "base_numbering": 1,
   "nav_menu": {},
   "number_sections": false,
   "sideBar": true,
   "skip_h1_title": false,
   "title_cell": "Table of Contents",
   "title_sidebar": "Contents",
   "toc_cell": false,
   "toc_position": {},
   "toc_section_display": true,
   "toc_window_display": false
  }
 },
 "nbformat": 4,
 "nbformat_minor": 5
}
